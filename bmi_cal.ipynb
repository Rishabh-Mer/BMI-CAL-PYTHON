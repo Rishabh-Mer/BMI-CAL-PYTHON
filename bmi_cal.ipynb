{
 "metadata": {
  "language_info": {
   "codemirror_mode": {
    "name": "ipython",
    "version": 3
   },
   "file_extension": ".py",
   "mimetype": "text/x-python",
   "name": "python",
   "nbconvert_exporter": "python",
   "pygments_lexer": "ipython3",
   "version": "3.7.6"
  },
  "orig_nbformat": 2,
  "kernelspec": {
   "name": "python376jvsc74a57bd0c6436f3c20611442dd4213dc7da6ad6cd6ff444c6dfb6ee1f0ac7656a045beb3",
   "display_name": "Python 3.7.6 64-bit ('py3': conda)"
  }
 },
 "nbformat": 4,
 "nbformat_minor": 2,
 "cells": [
  {
   "source": [
    "# BMI CAL"
   ],
   "cell_type": "markdown",
   "metadata": {}
  },
  {
   "cell_type": "code",
   "execution_count": 12,
   "metadata": {
    "tags": []
   },
   "outputs": [
    {
     "output_type": "stream",
     "name": "stdout",
     "text": [
      "Your BMI is : 26.37755102040817\nPre-Obesity\n"
     ]
    }
   ],
   "source": [
    "weight = input(\"Enter Weight (kg): \")\n",
    "height = input(\"Enter Height (centimeter): \")\n",
    "while True:    \n",
    "    try:\n",
    "        weight = float(weight)\n",
    "        height = float(height)\n",
    "    except (ValueError, TypeError):\n",
    "        print(\"Only Intergers or Float Values\")\n",
    "        break\n",
    "    meter = height/100\n",
    "    bmi = weight / (meter * meter)\n",
    "    print(\"Your BMI is :\", bmi)\n",
    "    if (bmi>0):\n",
    "        if(bmi < 18.5):\n",
    "            print(\"Underweight\")\n",
    "        elif(bmi >= 18.5 and bmi < 25.0 ):\n",
    "            print(\"Normal Weight\")\n",
    "        elif(bmi >= 25.0 and bmi < 30.0):\n",
    "            print(\"Pre-Obesity\")\n",
    "        elif(bmi >= 30.0 and bmi < 35.0):\n",
    "            print(\"Obesity Class I\")\n",
    "        elif(bmi >= 35.0 and bmi < 40.0):\n",
    "            print(\"Obesity Class II\")\n",
    "        else:\n",
    "            print(\"Obesity Class III\")\n",
    "    else:\n",
    "        print(\"Invalid Details\")   \n",
    "    break\n",
    "    "
   ]
  },
  {
   "cell_type": "code",
   "execution_count": null,
   "metadata": {},
   "outputs": [],
   "source": []
  }
 ]
}